{
 "cells": [
  {
   "cell_type": "code",
   "execution_count": 1,
   "metadata": {},
   "outputs": [],
   "source": [
    "from pandas.io.html import read_html"
   ]
  },
  {
   "cell_type": "code",
   "execution_count": 2,
   "metadata": {},
   "outputs": [],
   "source": [
    "# page = 'https://liquipedia.net/dota2/Portal:Players/Americas'\n",
    "page = 'https://liquipedia.net/dota2/Players_(all)'"
   ]
  },
  {
   "cell_type": "code",
   "execution_count": 3,
   "metadata": {},
   "outputs": [],
   "source": [
    "# features = ['ID','Name','Team','Links']"
   ]
  },
  {
   "cell_type": "code",
   "execution_count": 19,
   "metadata": {},
   "outputs": [],
   "source": [
    "table = read_html(page, attrs={\"class\":\"wikitable\"}, header=0, skiprows=943)"
   ]
  },
  {
   "cell_type": "code",
   "execution_count": 20,
   "metadata": {},
   "outputs": [
    {
     "data": {
      "text/html": [
       "<div>\n",
       "<style scoped>\n",
       "    .dataframe tbody tr th:only-of-type {\n",
       "        vertical-align: middle;\n",
       "    }\n",
       "\n",
       "    .dataframe tbody tr th {\n",
       "        vertical-align: top;\n",
       "    }\n",
       "\n",
       "    .dataframe thead th {\n",
       "        text-align: right;\n",
       "    }\n",
       "</style>\n",
       "<table border=\"1\" class=\"dataframe\">\n",
       "  <thead>\n",
       "    <tr style=\"text-align: right;\">\n",
       "      <th></th>\n",
       "      <th>Unnamed: 0</th>\n",
       "      <th>yChen</th>\n",
       "      <th>Pan Shuaifang</th>\n",
       "      <th>Team EVER</th>\n",
       "      <th>Unnamed: 4</th>\n",
       "    </tr>\n",
       "  </thead>\n",
       "  <tbody>\n",
       "    <tr>\n",
       "      <td>0</td>\n",
       "      <td>NaN</td>\n",
       "      <td>Yds.</td>\n",
       "      <td>Zhao Jiayi</td>\n",
       "      <td>NaN</td>\n",
       "      <td>NaN</td>\n",
       "    </tr>\n",
       "    <tr>\n",
       "      <td>1</td>\n",
       "      <td>NaN</td>\n",
       "      <td>Yel</td>\n",
       "      <td>Yelisey Filippov</td>\n",
       "      <td>Husky eSports</td>\n",
       "      <td>NaN</td>\n",
       "    </tr>\n",
       "    <tr>\n",
       "      <td>2</td>\n",
       "      <td>NaN</td>\n",
       "      <td>Yin</td>\n",
       "      <td>Fan Qihua</td>\n",
       "      <td>C5Gaming</td>\n",
       "      <td>NaN</td>\n",
       "    </tr>\n",
       "    <tr>\n",
       "      <td>3</td>\n",
       "      <td>NaN</td>\n",
       "      <td>yoky-</td>\n",
       "      <td>Maxim Kim</td>\n",
       "      <td>PRIES</td>\n",
       "      <td>NaN</td>\n",
       "    </tr>\n",
       "    <tr>\n",
       "      <td>4</td>\n",
       "      <td>NaN</td>\n",
       "      <td>yol</td>\n",
       "      <td>Vladimir Basov</td>\n",
       "      <td>NaN</td>\n",
       "      <td>NaN</td>\n",
       "    </tr>\n",
       "  </tbody>\n",
       "</table>\n",
       "</div>"
      ],
      "text/plain": [
       "   Unnamed: 0  yChen     Pan Shuaifang      Team EVER  Unnamed: 4\n",
       "0         NaN   Yds.        Zhao Jiayi            NaN         NaN\n",
       "1         NaN    Yel  Yelisey Filippov  Husky eSports         NaN\n",
       "2         NaN    Yin         Fan Qihua       C5Gaming         NaN\n",
       "3         NaN  yoky-         Maxim Kim          PRIES         NaN\n",
       "4         NaN    yol    Vladimir Basov            NaN         NaN"
      ]
     },
     "execution_count": 20,
     "metadata": {},
     "output_type": "execute_result"
    }
   ],
   "source": [
    "table[0].head()"
   ]
  },
  {
   "cell_type": "code",
   "execution_count": 21,
   "metadata": {},
   "outputs": [
    {
     "data": {
      "text/plain": [
       "0            Yds.\n",
       "1             Yel\n",
       "2             Yin\n",
       "3           yoky-\n",
       "4             yol\n",
       "5           yoona\n",
       "6           Yopaj\n",
       "7         young G\n",
       "8            Yowe\n",
       "9              Yp\n",
       "10            YRG\n",
       "11         Ysaera\n",
       "12            yxb\n",
       "13            yxm\n",
       "14            YYF\n",
       "15          Zacky\n",
       "16            zai\n",
       "17          Zayac\n",
       "18           Zeal\n",
       "19       Zenigata\n",
       "20    ZeroPerfect\n",
       "21         Zfreek\n",
       "22           zhi!\n",
       "23           Zhou\n",
       "24        Zitraks\n",
       "25          Zizou\n",
       "26           ZSMJ\n",
       "27           Ztok\n",
       "28            zxc\n",
       "29            Zyd\n",
       "30           Zyzz\n",
       "31           Женя\n",
       "32        чикиряу\n",
       "33              一\n",
       "34           圣子华炼\n",
       "35            垃圾君\n",
       "36             天命\n",
       "37            小郭嘉\n",
       "38            白学家\n",
       "39            闷油瓶\n",
       "40             阿香\n",
       "41            黑凤梨\n",
       "Name: yChen, dtype: object"
      ]
     },
     "execution_count": 21,
     "metadata": {},
     "output_type": "execute_result"
    }
   ],
   "source": [
    "table[0].yChen.head(60)"
   ]
  },
  {
   "cell_type": "code",
   "execution_count": null,
   "metadata": {},
   "outputs": [],
   "source": []
  }
 ],
 "metadata": {
  "kernelspec": {
   "display_name": "Python 3",
   "language": "python",
   "name": "python3"
  },
  "language_info": {
   "codemirror_mode": {
    "name": "ipython",
    "version": 3
   },
   "file_extension": ".py",
   "mimetype": "text/x-python",
   "name": "python",
   "nbconvert_exporter": "python",
   "pygments_lexer": "ipython3",
   "version": "3.7.3"
  }
 },
 "nbformat": 4,
 "nbformat_minor": 2
}
